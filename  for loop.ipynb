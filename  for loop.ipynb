{
 "cells": [
  {
   "cell_type": "code",
   "execution_count": 3,
   "id": "7b6456f2",
   "metadata": {},
   "outputs": [
    {
     "name": "stdout",
     "output_type": "stream",
     "text": [
      "Enter a string:Edyoda Karan\n",
      "Original string entered:  Edyoda Karan\n",
      "Inverted or mirrorimage string entered:  naraK adoydE\n"
     ]
    }
   ],
   "source": [
    "#program for mirror image of a word by for loop\n",
    "a= input(\"Enter a string:\")#input by user\n",
    "b= \"\" #variable temporary\n",
    "for i in a:\n",
    "    b=i+b\n",
    "print(\"Original string entered:\",end=\"  \")\n",
    "print(a)\n",
    "print(\"Inverted or mirrorimage string entered:\",end=\"  \")\n",
    "print(b)\n",
    "    \n",
    "    \n"
   ]
  },
  {
   "cell_type": "code",
   "execution_count": null,
   "id": "58281931",
   "metadata": {},
   "outputs": [],
   "source": []
  }
 ],
 "metadata": {
  "kernelspec": {
   "display_name": "Python 3 (ipykernel)",
   "language": "python",
   "name": "python3"
  },
  "language_info": {
   "codemirror_mode": {
    "name": "ipython",
    "version": 3
   },
   "file_extension": ".py",
   "mimetype": "text/x-python",
   "name": "python",
   "nbconvert_exporter": "python",
   "pygments_lexer": "ipython3",
   "version": "3.9.12"
  }
 },
 "nbformat": 4,
 "nbformat_minor": 5
}
