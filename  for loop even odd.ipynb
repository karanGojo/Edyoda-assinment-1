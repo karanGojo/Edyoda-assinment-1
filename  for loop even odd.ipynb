{
 "cells": [
  {
   "cell_type": "code",
   "execution_count": 5,
   "id": "78cb6fda",
   "metadata": {},
   "outputs": [
    {
     "name": "stdout",
     "output_type": "stream",
     "text": [
      "Count of Even numbers in given series: {4}\n",
      "Count of odd numbers in given series: {5}\n"
     ]
    }
   ],
   "source": [
    "# count odd and even number from given number series by using for loop\n",
    "num_1= [1,2,3,4,5,6,7,8,9]\n",
    "count_even=0#variable\n",
    "count_odd=0# variable\n",
    "for i in num_1:\n",
    "    if not i%2:\n",
    "        count_even+=1\n",
    "    else:\n",
    "        count_odd+=1\n",
    "\n",
    "print(f\"Count of Even numbers in given series:\",{count_even})#formating\n",
    "print(f\"Count of odd numbers in given series:\",{count_odd})\n",
    "        \n",
    "    \n",
    "    "
   ]
  },
  {
   "cell_type": "code",
   "execution_count": null,
   "id": "a94d3a5f",
   "metadata": {},
   "outputs": [],
   "source": []
  }
 ],
 "metadata": {
  "kernelspec": {
   "display_name": "Python 3 (ipykernel)",
   "language": "python",
   "name": "python3"
  },
  "language_info": {
   "codemirror_mode": {
    "name": "ipython",
    "version": 3
   },
   "file_extension": ".py",
   "mimetype": "text/x-python",
   "name": "python",
   "nbconvert_exporter": "python",
   "pygments_lexer": "ipython3",
   "version": "3.9.12"
  }
 },
 "nbformat": 4,
 "nbformat_minor": 5
}
