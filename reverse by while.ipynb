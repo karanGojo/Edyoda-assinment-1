{
 "cells": [
  {
   "cell_type": "code",
   "execution_count": 1,
   "id": "b09ad7d9",
   "metadata": {},
   "outputs": [
    {
     "name": "stdout",
     "output_type": "stream",
     "text": [
      "Enter User input:Edyoda Karan\n",
      "Original string Entered:  Edyoda Karan\n",
      "Reversed string or inverted string:  naraK adoydE\n"
     ]
    }
   ],
   "source": [
    "# python program to reverse a word\n",
    "a = input(\"Enter User input:\")# user input\n",
    "b = \"\"\n",
    "i =len(a) - 1# length function\n",
    "while (i>=0):\n",
    "    b= b + a[i]\n",
    "    i= i -1\n",
    "print(\"Original string Entered:\",end=\"  \")\n",
    "print(a)\n",
    "print(\"Reversed string or inverted string:\",end=\"  \")\n",
    "print(b)"
   ]
  },
  {
   "cell_type": "code",
   "execution_count": null,
   "id": "ef071cbf",
   "metadata": {},
   "outputs": [],
   "source": []
  }
 ],
 "metadata": {
  "kernelspec": {
   "display_name": "Python 3 (ipykernel)",
   "language": "python",
   "name": "python3"
  },
  "language_info": {
   "codemirror_mode": {
    "name": "ipython",
    "version": 3
   },
   "file_extension": ".py",
   "mimetype": "text/x-python",
   "name": "python",
   "nbconvert_exporter": "python",
   "pygments_lexer": "ipython3",
   "version": "3.9.12"
  }
 },
 "nbformat": 4,
 "nbformat_minor": 5
}
